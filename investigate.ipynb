{
 "cells": [
  {
   "cell_type": "code",
   "execution_count": 104,
   "metadata": {},
   "outputs": [],
   "source": [
    "import numpy as np\n",
    "import pandas as pd\n",
    "import os\n",
    "import ast\n",
    "import nltk\n",
    "import functools\n",
    "import re\n",
    "from collections import Counter\n",
    "import matplotlib.pyplot as plt\n",
    "%matplotlib inline\n",
    "from IPython.display import display"
   ]
  },
  {
   "cell_type": "code",
   "execution_count": 93,
   "metadata": {},
   "outputs": [],
   "source": [
    "WORD_COUNTS_NAME = 'word_counts'\n",
    "TOTAL_NAME = 'total_words'\n",
    "COMMENTS_COLUMN = 'comments'\n",
    "FREQUENCY_NAME = 'frequency'\n",
    "MAGNIFY_LIST = ['too', 'very', 'that', 'so', 'as']\n",
    "NEGATIVE_LIST = ['not', 'aren\\'t', 'isn\\'t', 'wasn\\'t', 'didn\\'t']\n",
    "WORD_CATEGORIES = {\n",
    "    'rigor': ['easy', 'hard', 'rigorous'],\n",
    "    'subject': ['math', 'computer', 'english', 'history', 'economics'],\n",
    "    'activity': ['read', 'write', 'listen', 'watch', 'code', 'proof']\n",
    "}"
   ]
  },
  {
   "cell_type": "code",
   "execution_count": 13,
   "metadata": {},
   "outputs": [],
   "source": [
    "df = pd.read_csv('data/final.csv').drop('Unnamed: 0', 1)"
   ]
  },
  {
   "cell_type": "code",
   "execution_count": 15,
   "metadata": {},
   "outputs": [],
   "source": [
    "'''Given a coursename and a year, finds workload statistics'''\n",
    "def find_workload_hist(coursename, year):\n",
    "    print \"hi\"\n",
    "    \n",
    "'''Plots a basic histogram of series'''\n",
    "def plot_basic_hist(ser, b, r):\n",
    "    plt.hist(ser.fillna(0).values, bins=b, range=r)\n",
    "    \n",
    "'''Plug in department to plot histogram.'''\n",
    "def plot_workload_by_department(frame, department):\n",
    "    filt = frame['department1'] == department\n",
    "    plot_basic_hist(frame[filt]['Course_Workload_Rating'], 50, (0,15))"
   ]
  },
  {
   "cell_type": "code",
   "execution_count": 87,
   "metadata": {},
   "outputs": [],
   "source": [
    "def get_words(text):\n",
    "    return re.compile('\\w+').findall(text)\n",
    "\n",
    "'''See if a word was used in a negative context'''\n",
    "def probe_if_negative(word1, word2):\n",
    "    if word1 in NEGATIVE_LIST:\n",
    "        return True\n",
    "    elif (word2 in NEGATIVE_LIST) and (word1 in MAGNIFY_LIST):\n",
    "        return True\n",
    "    else:\n",
    "        return False\n",
    "\n",
    "def get_word_dict(comments, to_return):\n",
    "    d = {}\n",
    "    t = 0\n",
    "    for comment in comments:\n",
    "        last_word = ''\n",
    "        two_words_ago = ''\n",
    "        for word in get_words(comment):\n",
    "            word = word.lower() # Make lower case\n",
    "            t += 1\n",
    "            try:\n",
    "                if probe_if_negative(last_word, two_words_ago):\n",
    "                    d['not_' + word] += 1\n",
    "                else:\n",
    "                    d[word] += 1\n",
    "            except: \n",
    "                if probe_if_negative(last_word, two_words_ago):\n",
    "                    d['not_' + word] = 1\n",
    "                else:\n",
    "                    d[word] = 1\n",
    "            two_words_ago = last_word\n",
    "            last_word = word\n",
    "    if to_return == 'words':\n",
    "        return d\n",
    "    elif to_return == 'count':\n",
    "        return t\n",
    "\n",
    "def preprocessing(to_return, row):\n",
    "    raw_comments = row[COMMENTS_COLUMN]\n",
    "    return get_word_dict(ast.literal_eval(raw_comments), to_return)\n",
    "\n",
    "def count_words(in_df):\n",
    "    in_df = in_df.copy()\n",
    "    in_df[TOTAL_NAME] = in_df.apply(functools.partial(preprocessing, 'count'), axis=1)\n",
    "    in_df[WORD_COUNTS_NAME] = in_df.apply(functools.partial(preprocessing, 'words'), axis=1)\n",
    "    return in_df\n",
    "\n",
    "'''Calculates the frequency of a word in the comments of row'''\n",
    "def calculate_frequency(word, row):\n",
    "    try:\n",
    "        return float(row[WORD_COUNTS_NAME][word]) / float(row[TOTAL_NAME])\n",
    "    except:\n",
    "        return 0\n",
    "    \n",
    "'''Weighted mean'''\n",
    "def m(x, w):\n",
    "    return np.sum(x * w) / np.sum(w)\n",
    "\n",
    "'''Weighted covariance'''\n",
    "def cov(x, y, w):\n",
    "    return np.sum(w * (x - m(x, w)) * (y - m(y, w))) / np.sum(w)\n",
    "\n",
    "'''Weighted correlation'''\n",
    "def corr(x, y, w):\n",
    "    return cov(x, y, w) / np.sqrt(cov(x, x, w) * cov(y, y, w))\n",
    "\n",
    "''' Returns two column dataframe consisting of df[column] and the frequency of the word.\n",
    "    Weights according to the number of comments. '''\n",
    "def find_word_correlations(in_df, word, column):\n",
    "    freq = in_df.apply(functools.partial(calculate_frequency, word), axis=1)\n",
    "    possibly_nan = pd.concat([freq, in_df[column], in_df[COMMENTS_COLUMN]], \n",
    "                             axis=1, \n",
    "                             keys=[FREQUENCY_NAME, column, COMMENTS_COLUMN])\n",
    "    clean_df = possibly_nan.dropna(axis=0, how='any')\n",
    "    return corr(clean_df[FREQUENCY_NAME], \n",
    "                clean_df[column],\n",
    "                clean_df[COMMENTS_COLUMN].apply(lambda x: len(ast.literal_eval(x))))"
   ]
  },
  {
   "cell_type": "code",
   "execution_count": 88,
   "metadata": {},
   "outputs": [],
   "source": [
    "df2 = count_words(df)"
   ]
  },
  {
   "cell_type": "code",
   "execution_count": 106,
   "metadata": {},
   "outputs": [],
   "source": [
    "'''Finds overall frequency of words in df by constructing total count and total dict'''\n",
    "def find_word_freqs_over_df(in_df):\n",
    "    in_df = in_df.copy()\n",
    "    D = Counter({})\n",
    "    T = 0\n",
    "    for index, row in in_df.iterrows():\n",
    "        D += Counter(row[WORD_COUNTS_NAME])\n",
    "        T += row[TOTAL_NAME]\n",
    "    return dict(D), T\n",
    "\n",
    "'''Breaks df into subdfs, then finds frequencies for subdfs.'''\n",
    "def find_group_word_freqs(whole_df, column, break_rule):\n",
    "    whole_df = whole_df.copy()\n",
    "    gb = df.groupby('ZZ')    \n",
    "    [gb.get_group(x) for x in gb.groups]"
   ]
  },
  {
   "cell_type": "code",
   "execution_count": null,
   "metadata": {},
   "outputs": [],
   "source": []
  },
  {
   "cell_type": "code",
   "execution_count": null,
   "metadata": {},
   "outputs": [],
   "source": []
  },
  {
   "cell_type": "code",
   "execution_count": null,
   "metadata": {},
   "outputs": [],
   "source": []
  },
  {
   "cell_type": "code",
   "execution_count": null,
   "metadata": {},
   "outputs": [],
   "source": []
  },
  {
   "cell_type": "code",
   "execution_count": 115,
   "metadata": {},
   "outputs": [],
   "source": [
    "ctr, total = find_word_freqs_over_df(df2)"
   ]
  },
  {
   "cell_type": "code",
   "execution_count": 140,
   "metadata": {},
   "outputs": [],
   "source": [
    "sorted_words = sorted(ctr.items(), key=lambda word_count: -word_count[1]) "
   ]
  },
  {
   "cell_type": "code",
   "execution_count": 143,
   "metadata": {},
   "outputs": [
    {
     "data": {
      "text/plain": [
       "(1211, 6865013)"
      ]
     },
     "execution_count": 143,
     "metadata": {},
     "output_type": "execute_result"
    }
   ],
   "source": [
    "c = 0\n",
    "t = 0\n",
    "for k,v in sorted_words:\n",
    "    c += 1\n",
    "    t += v\n",
    "    if t > total * .9:\n",
    "        break\n",
    "c, t"
   ]
  },
  {
   "cell_type": "code",
   "execution_count": 131,
   "metadata": {},
   "outputs": [
    {
     "data": {
      "text/plain": [
       "7627306"
      ]
     },
     "execution_count": 131,
     "metadata": {},
     "output_type": "execute_result"
    }
   ],
   "source": [
    "total"
   ]
  },
  {
   "cell_type": "markdown",
   "metadata": {},
   "source": [
    "So the previous work worked over word frequencies.  In some ways this is not the best way to operate.  Higher correlations might just correspond to words that are mentioned more.  Another way to think about this is to, for each word, keep track of a LIST of target_col values when that word was mentioned in some comment."
   ]
  },
  {
   "cell_type": "code",
   "execution_count": null,
   "metadata": {},
   "outputs": [],
   "source": [
    "'''Turns a dict of occurence count form into a dict of target_value_list form'''\n",
    "def convert_dict(in_dict, value):\n",
    "    in_dict = dict(in_dict) # Make a copy so nothing bad happens\n",
    "    new_dict = {}\n",
    "    for k, v in in_dict.iteritems():\n",
    "        new_dict[k] = [value] * v\n",
    "    return new_dict\n",
    "\n",
    "'''Applies convert dict to each row of the in_df'''\n"
   ]
  },
  {
   "cell_type": "code",
   "execution_count": null,
   "metadata": {},
   "outputs": [],
   "source": []
  },
  {
   "cell_type": "code",
   "execution_count": 119,
   "metadata": {},
   "outputs": [],
   "source": [
    "from nltk.book import *"
   ]
  },
  {
   "cell_type": "code",
   "execution_count": 122,
   "metadata": {},
   "outputs": [
    {
     "data": {
      "text/plain": [
       "<Text: Moby Dick by Herman Melville 1851>"
      ]
     },
     "execution_count": 122,
     "metadata": {},
     "output_type": "execute_result"
    }
   ],
   "source": [
    "text1"
   ]
  },
  {
   "cell_type": "code",
   "execution_count": 149,
   "metadata": {},
   "outputs": [
    {
     "data": {
      "text/plain": [
       "260819"
      ]
     },
     "execution_count": 149,
     "metadata": {},
     "output_type": "execute_result"
    }
   ],
   "source": [
    "len(text1)"
   ]
  },
  {
   "cell_type": "code",
   "execution_count": null,
   "metadata": {},
   "outputs": [],
   "source": []
  },
  {
   "cell_type": "code",
   "execution_count": null,
   "metadata": {},
   "outputs": [],
   "source": []
  },
  {
   "cell_type": "code",
   "execution_count": 39,
   "metadata": {},
   "outputs": [
    {
     "name": "stdout",
     "output_type": "stream",
     "text": [
      "Displaying 13 of 13 matches:\n",
      "bsorbed in reading from a ponderous volume . \" Bildad ,\" cried Captain Peleg ,\n",
      "es bodily , in their entire liberal volume , and boldly sort them that way . A\n",
      "ure , yet the bookbinder ' s Quarto volume in its dimensioned form does not pr\n",
      "not preserve the shape of the Folio volume , but the Octavo volume does . BOOK\n",
      "f the Folio volume , but the Octavo volume does . BOOK II . ( OCTAVO ), CHAPTE\n",
      " Old Greenland ;\" in this admirable volume , all standers of mast - heads are \n",
      "wonder , then , that ever gathering volume from the mere transit over the wide\n",
      "tant a one as will be found in this volume ; but the leading matter of it requ\n",
      "y of it , which necessitates a vast volume of commentaries to expound it . Fir\n",
      " ' s two whales . Elsewhere in this volume the slanderous aspersion has been d\n",
      " , I stumbled upon an ancient Dutch volume , which , by the musty whaling smel\n",
      "ighty theme . No great and enduring volume can ever be written on the flea , t\n",
      " to unfold ; a wondrous work in one volume ; but whose mysteries not even hims\n"
     ]
    }
   ],
   "source": [
    "text1.concordance(\"volume\")"
   ]
  },
  {
   "cell_type": "code",
   "execution_count": null,
   "metadata": {},
   "outputs": [],
   "source": []
  },
  {
   "cell_type": "code",
   "execution_count": null,
   "metadata": {},
   "outputs": [],
   "source": []
  },
  {
   "cell_type": "code",
   "execution_count": null,
   "metadata": {},
   "outputs": [],
   "source": []
  },
  {
   "cell_type": "code",
   "execution_count": null,
   "metadata": {},
   "outputs": [],
   "source": []
  },
  {
   "cell_type": "code",
   "execution_count": null,
   "metadata": {},
   "outputs": [],
   "source": []
  },
  {
   "cell_type": "code",
   "execution_count": null,
   "metadata": {},
   "outputs": [],
   "source": []
  },
  {
   "cell_type": "code",
   "execution_count": null,
   "metadata": {},
   "outputs": [],
   "source": []
  },
  {
   "cell_type": "code",
   "execution_count": 13,
   "metadata": {},
   "outputs": [
    {
     "data": {
      "image/png": "[encoded data removed]",
      "text/plain": [
       "<matplotlib.figure.Figure at 0x1123a5090>"
      ]
     },
     "metadata": {},
     "output_type": "display_data"
    }
   ],
   "source": [
    "plot_basic_hist(df['number_of_comments'], 51, (0,50))"
   ]
  },
  {
   "cell_type": "code",
   "execution_count": 14,
   "metadata": {},
   "outputs": [
    {
     "data": {
      "image/png": "[encoded data removed]",
      "text/plain": [
       "<matplotlib.figure.Figure at 0x1122e60d0>"
      ]
     },
     "metadata": {},
     "output_type": "display_data"
    }
   ],
   "source": [
    "plot_basic_hist(df['Course_Workload_Rating'], 30, (0,15))"
   ]
  },
  {
   "cell_type": "code",
   "execution_count": 15,
   "metadata": {},
   "outputs": [
    {
     "data": {
      "image/png": "[encoded data removed]",
      "text/plain": [
       "<matplotlib.figure.Figure at 0x1114b17d0>"
      ]
     },
     "metadata": {},
     "output_type": "display_data"
    }
   ],
   "source": [
    "plot_workload_by_department(df, 'MATH')"
   ]
  },
  {
   "cell_type": "code",
   "execution_count": 60,
   "metadata": {},
   "outputs": [
    {
     "data": {
      "image/png": "[encoded data removed]",
      "text/plain": [
       "<matplotlib.figure.Figure at 0x105dba6d0>"
      ]
     },
     "metadata": {},
     "output_type": "display_data"
    }
   ],
   "source": [
    "plot_workload_by_department(df, 'COMPSCI')"
   ]
  },
  {
   "cell_type": "code",
   "execution_count": 61,
   "metadata": {},
   "outputs": [
    {
     "data": {
      "image/png": "[encoded data removed]",
      "text/plain": [
       "<matplotlib.figure.Figure at 0x105d03c90>"
      ]
     },
     "metadata": {},
     "output_type": "display_data"
    }
   ],
   "source": [
    "plot_workload_by_department(df, 'ECON')"
   ]
  },
  {
   "cell_type": "code",
   "execution_count": 66,
   "metadata": {},
   "outputs": [
    {
     "data": {
      "image/png": "[encoded data removed]",
      "text/plain": [
       "<matplotlib.figure.Figure at 0x10a158810>"
      ]
     },
     "metadata": {},
     "output_type": "display_data"
    }
   ],
   "source": [
    "plot_workload_by_department(df, 'ENGLISH')"
   ]
  },
  {
   "cell_type": "code",
   "execution_count": 30,
   "metadata": {},
   "outputs": [
    {
     "data": {
      "text/plain": [
       "431"
      ]
     },
     "execution_count": 30,
     "metadata": {},
     "output_type": "execute_result"
    }
   ],
   "source": [
    "(df.department1 == 'MATH').sum()"
   ]
  },
  {
   "cell_type": "code",
   "execution_count": 14,
   "metadata": {},
   "outputs": [
    {
     "data": {
      "text/plain": [
       "(array([ 0.00964854,  0.01929708,  0.04341844,  0.0337699 ,  0.03859417,\n",
       "         0.09166115,  0.15437668,  0.13990387,  0.22674075,  0.26051065,\n",
       "         0.28945627,  0.36664461,  0.36182034,  0.4197116 ,  0.41006305,\n",
       "         0.36182034,  0.29910482,  0.29428054,  0.26533492,  0.18814658,\n",
       "         0.14955241,  0.11578251,  0.07718834,  0.08201261,  0.05789125,\n",
       "         0.01929708,  0.00482427,  0.02412136,  0.00964854,  0.00964854]),\n",
       " array([-2.87954065, -2.67225546, -2.46497026, -2.25768507, -2.05039987,\n",
       "        -1.84311468, -1.63582948, -1.42854429, -1.22125909, -1.01397389,\n",
       "        -0.8066887 , -0.5994035 , -0.39211831, -0.18483311,  0.02245208,\n",
       "         0.22973728,  0.43702247,  0.64430767,  0.85159286,  1.05887806,\n",
       "         1.26616325,  1.47344845,  1.68073364,  1.88801884,  2.09530403,\n",
       "         2.30258923,  2.50987442,  2.71715962,  2.92444481,  3.13173001,\n",
       "         3.33901521]),\n",
       " <a list of 30 Patch objects>)"
      ]
     },
     "execution_count": 14,
     "metadata": {},
     "output_type": "execute_result"
    },
    {
     "data": {
      "image/png": "[encoded data removed]",
      "text/plain": [
       "<matplotlib.figure.Figure at 0x10d724e50>"
      ]
     },
     "metadata": {},
     "output_type": "display_data"
    }
   ],
   "source": [
    "x = np.random.normal(size = 1000)\n",
    "plt.hist(x, normed=True, bins=30)"
   ]
  },
  {
   "cell_type": "code",
   "execution_count": null,
   "metadata": {},
   "outputs": [],
   "source": []
  }
 ],
 "metadata": {
  "kernelspec": {
   "display_name": "Python 2",
   "language": "python",
   "name": "python2"
  },
  "language_info": {
   "codemirror_mode": {
    "name": "ipython",
    "version": 2
   },
   "file_extension": ".py",
   "mimetype": "text/x-python",
   "name": "python",
   "nbconvert_exporter": "python",
   "pygments_lexer": "ipython2",
   "version": "2.7.10"
  }
 },
 "nbformat": 4,
 "nbformat_minor": 2
}
